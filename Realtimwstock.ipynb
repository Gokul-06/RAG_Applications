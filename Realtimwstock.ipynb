{
  "nbformat": 4,
  "nbformat_minor": 0,
  "metadata": {
    "colab": {
      "provenance": []
    },
    "kernelspec": {
      "name": "python3",
      "display_name": "Python 3"
    },
    "language_info": {
      "name": "python"
    }
  },
  "cells": [
    {
      "cell_type": "markdown",
      "source": [
        "need to install the necessary libraries"
      ],
      "metadata": {
        "id": "rGG-dwKXECwa"
      }
    },
    {
      "cell_type": "code",
      "execution_count": null,
      "metadata": {
        "colab": {
          "base_uri": "https://localhost:8080/"
        },
        "id": "H_6nsTiXD9xR",
        "outputId": "6e525e60-bd5d-45c9-d982-e03f019250ca"
      },
      "outputs": [
        {
          "output_type": "stream",
          "name": "stdout",
          "text": [
            "Requirement already satisfied: yfinance in /usr/local/lib/python3.10/dist-packages (0.2.37)\n",
            "Collecting pymysql\n",
            "  Downloading PyMySQL-1.1.0-py3-none-any.whl (44 kB)\n",
            "\u001b[2K     \u001b[90m━━━━━━━━━━━━━━━━━━━━━━━━━━━━━━━━━━━━━━━━\u001b[0m \u001b[32m44.8/44.8 kB\u001b[0m \u001b[31m1.2 MB/s\u001b[0m eta \u001b[36m0:00:00\u001b[0m\n",
            "\u001b[?25hRequirement already satisfied: pandas>=1.3.0 in /usr/local/lib/python3.10/dist-packages (from yfinance) (1.5.3)\n",
            "Requirement already satisfied: numpy>=1.16.5 in /usr/local/lib/python3.10/dist-packages (from yfinance) (1.25.2)\n",
            "Requirement already satisfied: requests>=2.31 in /usr/local/lib/python3.10/dist-packages (from yfinance) (2.31.0)\n",
            "Requirement already satisfied: multitasking>=0.0.7 in /usr/local/lib/python3.10/dist-packages (from yfinance) (0.0.11)\n",
            "Requirement already satisfied: lxml>=4.9.1 in /usr/local/lib/python3.10/dist-packages (from yfinance) (4.9.4)\n",
            "Requirement already satisfied: appdirs>=1.4.4 in /usr/local/lib/python3.10/dist-packages (from yfinance) (1.4.4)\n",
            "Requirement already satisfied: pytz>=2022.5 in /usr/local/lib/python3.10/dist-packages (from yfinance) (2023.4)\n",
            "Requirement already satisfied: frozendict>=2.3.4 in /usr/local/lib/python3.10/dist-packages (from yfinance) (2.4.0)\n",
            "Requirement already satisfied: peewee>=3.16.2 in /usr/local/lib/python3.10/dist-packages (from yfinance) (3.17.1)\n",
            "Requirement already satisfied: beautifulsoup4>=4.11.1 in /usr/local/lib/python3.10/dist-packages (from yfinance) (4.12.3)\n",
            "Requirement already satisfied: html5lib>=1.1 in /usr/local/lib/python3.10/dist-packages (from yfinance) (1.1)\n",
            "Requirement already satisfied: soupsieve>1.2 in /usr/local/lib/python3.10/dist-packages (from beautifulsoup4>=4.11.1->yfinance) (2.5)\n",
            "Requirement already satisfied: six>=1.9 in /usr/local/lib/python3.10/dist-packages (from html5lib>=1.1->yfinance) (1.16.0)\n",
            "Requirement already satisfied: webencodings in /usr/local/lib/python3.10/dist-packages (from html5lib>=1.1->yfinance) (0.5.1)\n",
            "Requirement already satisfied: python-dateutil>=2.8.1 in /usr/local/lib/python3.10/dist-packages (from pandas>=1.3.0->yfinance) (2.8.2)\n",
            "Requirement already satisfied: charset-normalizer<4,>=2 in /usr/local/lib/python3.10/dist-packages (from requests>=2.31->yfinance) (3.3.2)\n",
            "Requirement already satisfied: idna<4,>=2.5 in /usr/local/lib/python3.10/dist-packages (from requests>=2.31->yfinance) (3.6)\n",
            "Requirement already satisfied: urllib3<3,>=1.21.1 in /usr/local/lib/python3.10/dist-packages (from requests>=2.31->yfinance) (2.0.7)\n",
            "Requirement already satisfied: certifi>=2017.4.17 in /usr/local/lib/python3.10/dist-packages (from requests>=2.31->yfinance) (2024.2.2)\n",
            "Installing collected packages: pymysql\n",
            "Successfully installed pymysql-1.1.0\n"
          ]
        }
      ],
      "source": [
        "!pip install yfinance pymysql\n"
      ]
    },
    {
      "cell_type": "code",
      "source": [
        "import yfinance as yf\n",
        "\n",
        "# Define the stock symbols\n",
        "stocks = ['AAPL', 'GOOGL', 'META', 'NFLX', 'AMZN']\n",
        "\n",
        "# Fetch the current stock prices\n",
        "stock_data = {}\n",
        "for stock in stocks:\n",
        "    ticker = yf.Ticker(stock)\n",
        "    stock_data[stock] = ticker.history(period='1d')['Close'][0]\n",
        "\n",
        "print(stock_data)\n"
      ],
      "metadata": {
        "colab": {
          "base_uri": "https://localhost:8080/"
        },
        "id": "wrHguHaIEL_R",
        "outputId": "ea90b6bd-006b-4521-c8fe-0f147b841acc"
      },
      "execution_count": null,
      "outputs": [
        {
          "output_type": "stream",
          "name": "stdout",
          "text": [
            "{'AAPL': 171.47999572753906, 'GOOGL': 150.92999267578125, 'META': 485.5799865722656, 'NFLX': 607.3300170898438, 'AMZN': 180.3800048828125}\n"
          ]
        }
      ]
    },
    {
      "cell_type": "code",
      "source": [
        "import pymysql\n",
        "import yfinance as yf\n",
        "\n",
        "# Fetch stock prices\n",
        "def fetch_stock_prices():\n",
        "    stocks = ['AAPL', 'GOOGL', 'META', 'NFLX', 'AMZN']\n",
        "    stock_data = {}\n",
        "    for stock in stocks:\n",
        "        ticker = yf.Ticker(stock)\n",
        "        stock_data[stock] = ticker.history(period='1d')['Close'][0]\n",
        "    return stock_data\n",
        "\n",
        "# Database connection details\n",
        "db_host = \"svc-538d9a8e-2af0-4a3c-abf5-f797b0d6b9f0-dml.aws-virginia-6.svc.singlestore.com\"\n",
        "db_user = \"admin\"\n",
        "db_pass = \"Rules123\"\n",
        "db_name = \"stocks\"\n",
        "\n",
        "# Connect to the database\n",
        "conn = pymysql.connect(host=db_host, user=db_user, password=db_pass, database=db_name)\n",
        "\n",
        "# Create a new cursor\n",
        "cursor = conn.cursor()\n",
        "\n",
        "# Insert stock data into the database\n",
        "def insert_stock_prices(stock_data):\n",
        "    insert_query = 'INSERT INTO stock_prices (symbol, price) VALUES (%s, %s) ON DUPLICATE KEY UPDATE price=VALUES(price)'\n",
        "    for symbol, price in stock_data.items():\n",
        "        cursor.execute(insert_query, (symbol, price))\n",
        "    conn.commit()\n",
        "\n",
        "# Fetch and insert stock prices\n",
        "stock_data = fetch_stock_prices()\n",
        "insert_stock_prices(stock_data)\n",
        "\n",
        "# Close the connection\n",
        "conn.close()\n"
      ],
      "metadata": {
        "id": "uK7rTa9sEPTS"
      },
      "execution_count": null,
      "outputs": []
    },
    {
      "cell_type": "code",
      "source": [
        "pip install yfinance pymysql schedule\n"
      ],
      "metadata": {
        "colab": {
          "base_uri": "https://localhost:8080/"
        },
        "id": "OCXV0BSRFTrZ",
        "outputId": "356b7fb6-72e4-44e0-a2ca-b14f6a24c480"
      },
      "execution_count": null,
      "outputs": [
        {
          "output_type": "stream",
          "name": "stdout",
          "text": [
            "Requirement already satisfied: yfinance in /usr/local/lib/python3.10/dist-packages (0.2.37)\n",
            "Requirement already satisfied: pymysql in /usr/local/lib/python3.10/dist-packages (1.1.0)\n",
            "Collecting schedule\n",
            "  Downloading schedule-1.2.1-py2.py3-none-any.whl (11 kB)\n",
            "Requirement already satisfied: pandas>=1.3.0 in /usr/local/lib/python3.10/dist-packages (from yfinance) (1.5.3)\n",
            "Requirement already satisfied: numpy>=1.16.5 in /usr/local/lib/python3.10/dist-packages (from yfinance) (1.25.2)\n",
            "Requirement already satisfied: requests>=2.31 in /usr/local/lib/python3.10/dist-packages (from yfinance) (2.31.0)\n",
            "Requirement already satisfied: multitasking>=0.0.7 in /usr/local/lib/python3.10/dist-packages (from yfinance) (0.0.11)\n",
            "Requirement already satisfied: lxml>=4.9.1 in /usr/local/lib/python3.10/dist-packages (from yfinance) (4.9.4)\n",
            "Requirement already satisfied: appdirs>=1.4.4 in /usr/local/lib/python3.10/dist-packages (from yfinance) (1.4.4)\n",
            "Requirement already satisfied: pytz>=2022.5 in /usr/local/lib/python3.10/dist-packages (from yfinance) (2023.4)\n",
            "Requirement already satisfied: frozendict>=2.3.4 in /usr/local/lib/python3.10/dist-packages (from yfinance) (2.4.0)\n",
            "Requirement already satisfied: peewee>=3.16.2 in /usr/local/lib/python3.10/dist-packages (from yfinance) (3.17.1)\n",
            "Requirement already satisfied: beautifulsoup4>=4.11.1 in /usr/local/lib/python3.10/dist-packages (from yfinance) (4.12.3)\n",
            "Requirement already satisfied: html5lib>=1.1 in /usr/local/lib/python3.10/dist-packages (from yfinance) (1.1)\n",
            "Requirement already satisfied: soupsieve>1.2 in /usr/local/lib/python3.10/dist-packages (from beautifulsoup4>=4.11.1->yfinance) (2.5)\n",
            "Requirement already satisfied: six>=1.9 in /usr/local/lib/python3.10/dist-packages (from html5lib>=1.1->yfinance) (1.16.0)\n",
            "Requirement already satisfied: webencodings in /usr/local/lib/python3.10/dist-packages (from html5lib>=1.1->yfinance) (0.5.1)\n",
            "Requirement already satisfied: python-dateutil>=2.8.1 in /usr/local/lib/python3.10/dist-packages (from pandas>=1.3.0->yfinance) (2.8.2)\n",
            "Requirement already satisfied: charset-normalizer<4,>=2 in /usr/local/lib/python3.10/dist-packages (from requests>=2.31->yfinance) (3.3.2)\n",
            "Requirement already satisfied: idna<4,>=2.5 in /usr/local/lib/python3.10/dist-packages (from requests>=2.31->yfinance) (3.6)\n",
            "Requirement already satisfied: urllib3<3,>=1.21.1 in /usr/local/lib/python3.10/dist-packages (from requests>=2.31->yfinance) (2.0.7)\n",
            "Requirement already satisfied: certifi>=2017.4.17 in /usr/local/lib/python3.10/dist-packages (from requests>=2.31->yfinance) (2024.2.2)\n",
            "Installing collected packages: schedule\n",
            "Successfully installed schedule-1.2.1\n"
          ]
        }
      ]
    },
    {
      "cell_type": "code",
      "source": [
        "import time\n",
        "import pymysql\n",
        "import yfinance as yf\n",
        "\n",
        "# Fetch stock prices\n",
        "def fetch_stock_prices():\n",
        "    stocks = ['AAPL', 'GOOGL', 'META', 'NFLX', 'AMZN']\n",
        "    stock_data = {}\n",
        "    for stock in stocks:\n",
        "        ticker = yf.Ticker(stock)\n",
        "        stock_data[stock] = round(ticker.history(period='1d')['Close'][0], 3)\n",
        "    return stock_data\n",
        "\n",
        "# Database connection details\n",
        "db_host = \"svc-538d9a8e-2af0-4a3c-abf5-f797b0d6b9f0-dml.aws-virginia-6.svc.singlestore.com\"\n",
        "db_user = \"admin\"\n",
        "db_pass = \"Rules123\"\n",
        "db_name = \"stocks\"\n",
        "\n",
        "def insert_stock_prices(stock_data):\n",
        "    # Connect to the database\n",
        "    conn = pymysql.connect(host=db_host, user=db_user, password=db_pass, database=db_name)\n",
        "    cursor = conn.cursor()\n",
        "\n",
        "    # Insert or update stock data into the database\n",
        "    insert_query = 'INSERT INTO stock_prices_new (symbol, price) VALUES (%s, %s) ON DUPLICATE KEY UPDATE price=VALUES(price)'\n",
        "    for symbol, price in stock_data.items():\n",
        "        cursor.execute(insert_query, (symbol, price))\n",
        "    conn.commit()\n",
        "\n",
        "    # Close the connection\n",
        "    conn.close()\n",
        "\n",
        "while True:\n",
        "    stock_data = fetch_stock_prices()\n",
        "    insert_stock_prices(stock_data)\n",
        "    print(\"Stock prices updated.\")\n",
        "    time.sleep(10)  # Sleep for 10 seconds before the next update\n"
      ],
      "metadata": {
        "colab": {
          "base_uri": "https://localhost:8080/",
          "height": 496
        },
        "id": "yh6W8zhgFVEC",
        "outputId": "7008c9ba-e607-411c-fc05-6456d276320e"
      },
      "execution_count": null,
      "outputs": [
        {
          "output_type": "stream",
          "name": "stdout",
          "text": [
            "Stock prices updated.\n",
            "Stock prices updated.\n",
            "Stock prices updated.\n",
            "Stock prices updated.\n",
            "Stock prices updated.\n",
            "Stock prices updated.\n",
            "Stock prices updated.\n",
            "Stock prices updated.\n",
            "Stock prices updated.\n",
            "Stock prices updated.\n",
            "Stock prices updated.\n",
            "Stock prices updated.\n",
            "Stock prices updated.\n",
            "Stock prices updated.\n",
            "Stock prices updated.\n",
            "Stock prices updated.\n",
            "Stock prices updated.\n",
            "Stock prices updated.\n",
            "Stock prices updated.\n"
          ]
        },
        {
          "output_type": "error",
          "ename": "KeyboardInterrupt",
          "evalue": "",
          "traceback": [
            "\u001b[0;31m---------------------------------------------------------------------------\u001b[0m",
            "\u001b[0;31mKeyboardInterrupt\u001b[0m                         Traceback (most recent call last)",
            "\u001b[0;32m<ipython-input-7-8e8e1afb0664>\u001b[0m in \u001b[0;36m<cell line: 34>\u001b[0;34m()\u001b[0m\n\u001b[1;32m     36\u001b[0m     \u001b[0minsert_stock_prices\u001b[0m\u001b[0;34m(\u001b[0m\u001b[0mstock_data\u001b[0m\u001b[0;34m)\u001b[0m\u001b[0;34m\u001b[0m\u001b[0;34m\u001b[0m\u001b[0m\n\u001b[1;32m     37\u001b[0m     \u001b[0mprint\u001b[0m\u001b[0;34m(\u001b[0m\u001b[0;34m\"Stock prices updated.\"\u001b[0m\u001b[0;34m)\u001b[0m\u001b[0;34m\u001b[0m\u001b[0;34m\u001b[0m\u001b[0m\n\u001b[0;32m---> 38\u001b[0;31m     \u001b[0mtime\u001b[0m\u001b[0;34m.\u001b[0m\u001b[0msleep\u001b[0m\u001b[0;34m(\u001b[0m\u001b[0;36m10\u001b[0m\u001b[0;34m)\u001b[0m  \u001b[0;31m# Sleep for 10 seconds before the next update\u001b[0m\u001b[0;34m\u001b[0m\u001b[0;34m\u001b[0m\u001b[0m\n\u001b[0m",
            "\u001b[0;31mKeyboardInterrupt\u001b[0m: "
          ]
        }
      ]
    }
  ]
}